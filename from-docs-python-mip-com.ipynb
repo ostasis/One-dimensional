{
 "cells": [
  {
   "cell_type": "code",
   "execution_count": 5,
   "metadata": {},
   "outputs": [
    {
     "name": "stdout",
     "output_type": "stream",
     "text": [
      "\n",
      "Objective value: 8.0\n",
      "Solution: x[0,0] = 1.0\n",
      "          x[0,6] = 4.0\n",
      "          x[1,1] = 3.0\n",
      "          x[1,3] = 3.0\n",
      "          x[1,5] = 3.0\n",
      "          x[1,6] = 2.0\n",
      "          x[2,4] = 6.0\n",
      "          x[2,7] = 1.0\n",
      "          x[3,2] = 7.0\n",
      "          x[3,7] = 5.0\n",
      "          x[4,0] = 5.0\n",
      "          x[4,2] = 1.0\n",
      "          x[4,4] = 1.0\n",
      "          x[5,7] = 3.0\n",
      "          x[6,0] = 8.0\n",
      "          y[0] = 1.0\n",
      "          y[1] = 1.0\n",
      "          y[2] = 1.0\n",
      "          y[3] = 1.0\n",
      "          y[4] = 1.0\n",
      "          y[5] = 1.0\n",
      "          y[6] = 1.0\n",
      "          y[7] = 1.0\n",
      "          "
     ]
    }
   ],
   "source": [
    "from mip import Model, xsum, BINARY, INTEGER\n",
    "\n",
    "n = 8  # maximum number of bars\n",
    "L = 6000  # bar length\n",
    "m = 7  # number of requests\n",
    "#w = [187, 119, 74, 90]  # size of each item\n",
    "#b = [1, 2, 2, 1]  # demand for each item\n",
    "w = [456, 2000, 888, 758, 600, 423, 300]\n",
    "b = [5, 9, 7, 12, 5, 3, 8]\n",
    "\n",
    "# creating the model\n",
    "model = Model()\n",
    "x = {(i, j): model.add_var(obj=0, var_type=INTEGER, name=\"x[%d,%d]\" % (i, j))\n",
    "     for i in range(m) for j in range(n)}\n",
    "y = {j: model.add_var(obj=1, var_type=BINARY, name=\"y[%d]\" % j)\n",
    "     for j in range(n)}\n",
    "\n",
    "# constraints\n",
    "for i in range(m):\n",
    "    model.add_constr(xsum(x[i, j] for j in range(n)) >= b[i])\n",
    "for j in range(n):\n",
    "    model.add_constr(xsum(w[i] * x[i, j] for i in range(m)) <= L * y[j])\n",
    "\n",
    "# additional constraints to reduce symmetry\n",
    "for j in range(1, n):\n",
    "    model.add_constr(y[j - 1] >= y[j])\n",
    "\n",
    "# optimizing the model\n",
    "model.optimize()\n",
    "\n",
    "# printing the solution\n",
    "print('')\n",
    "print('Objective value: {model.objective_value:.3}'.format(**locals()))\n",
    "print('Solution: ', end='')\n",
    "for v in model.vars:\n",
    "    if v.x > 1e-5:\n",
    "        print('{v.name} = {v.x}'.format(**locals()))\n",
    "        print('          ', end='')"
   ]
  },
  {
   "cell_type": "markdown",
   "metadata": {},
   "source": [
    "Objective value: 3.0\n",
    "Solution: x[0,0] = 1.0\n",
    "          x[1,2] = 2.0\n",
    "          x[2,1] = 2.0\n",
    "          x[3,1] = 1.0\n",
    "          y[0] = 1.0\n",
    "          y[1] = 1.0\n",
    "          y[2] = 1.0"
   ]
  },
  {
   "cell_type": "code",
   "execution_count": null,
   "metadata": {},
   "outputs": [],
   "source": []
  },
  {
   "cell_type": "code",
   "execution_count": null,
   "metadata": {},
   "outputs": [],
   "source": []
  },
  {
   "cell_type": "code",
   "execution_count": null,
   "metadata": {},
   "outputs": [],
   "source": []
  }
 ],
 "metadata": {
  "kernelspec": {
   "display_name": "Python 3",
   "language": "python",
   "name": "python3"
  },
  "language_info": {
   "codemirror_mode": {
    "name": "ipython",
    "version": 3
   },
   "file_extension": ".py",
   "mimetype": "text/x-python",
   "name": "python",
   "nbconvert_exporter": "python",
   "pygments_lexer": "ipython3",
   "version": "3.7.4"
  }
 },
 "nbformat": 4,
 "nbformat_minor": 2
}
