{
 "cells": [
  {
   "cell_type": "code",
   "execution_count": 47,
   "metadata": {},
   "outputs": [
    {
     "data": {
      "application/vnd.jupyter.widget-view+json": {
       "model_id": "8f7934cdaddc425885f2997fe6f2a605",
       "version_major": 2,
       "version_minor": 0
      },
      "text/plain": [
       "VBox(children=(HBox(children=(BoundedIntText(value=6000, description='Stock Length:', max=100000), FileUpload(…"
      ]
     },
     "metadata": {},
     "output_type": "display_data"
    }
   ],
   "source": [
    "import time\n",
    "\n",
    "from mip import Model, xsum, BINARY, INTEGER, OptimizationStatus\n",
    "\n",
    "import matplotlib.pyplot as plt\n",
    "import numpy as np\n",
    "import pandas as pd\n",
    "\n",
    "import ipywidgets as widgets\n",
    "\n",
    "wL = widgets.BoundedIntText(\n",
    "    value=6000,\n",
    "    min=0,\n",
    "    max=100000.0,\n",
    "    step=1,\n",
    "    description='Stock Length:',\n",
    "    disabled=False\n",
    ")\n",
    "wL\n",
    "\n",
    "checkbox1 = widgets.Checkbox(\n",
    "    value=False,\n",
    "    description='Reduce symmetry',\n",
    "    disabled=False\n",
    ")\n",
    "checkbox1\n",
    "\n",
    "myupload = widgets.FileUpload(\n",
    "    accept='.csv',\n",
    "    multiple=False  \n",
    ")\n",
    "myupload\n",
    "\n",
    "row0 = widgets.HBox([wL, myupload])\n",
    "row1 = widgets.HBox([checkbox1])\n",
    "\n",
    "widgets.VBox((row0, row1))"
   ]
  },
  {
   "cell_type": "code",
   "execution_count": 48,
   "metadata": {},
   "outputs": [],
   "source": [
    "timestr = time.strftime(\"%Y%m%d-%H%M%S\")\n",
    "#print(timestr)"
   ]
  },
  {
   "cell_type": "code",
   "execution_count": 49,
   "metadata": {},
   "outputs": [],
   "source": [
    "uploaded_filename = next(iter(myupload.value))\n",
    "#print(uploaded_filename)\n",
    "content = myupload.value[uploaded_filename]['content']\n",
    "with open('files/' + timestr + '.csv', 'wb') as f: f.write(content)"
   ]
  },
  {
   "cell_type": "code",
   "execution_count": 50,
   "metadata": {},
   "outputs": [
    {
     "name": "stdout",
     "output_type": "stream",
     "text": [
      "   Quantity  Length\n",
      "0         5     456\n",
      "1         9    2000\n",
      "2         7     888\n",
      "3        12     758\n",
      "4         5     600\n",
      "5         3     423\n",
      "6         8     300\n",
      "/home/lachlan/nbs\n",
      "files/20200613-220442.csv\n"
     ]
    }
   ],
   "source": [
    "url='files/' + timestr + '.csv'\n",
    "df1=pd.read_csv(url, sep=r'\\s*,\\s*', engine='python')\n",
    "print(df1)\n",
    "#print(url)\n",
    "!pwd\n",
    "!echo $url\n",
    "!rm $url"
   ]
  },
  {
   "cell_type": "code",
   "execution_count": 51,
   "metadata": {},
   "outputs": [
    {
     "name": "stdout",
     "output_type": "stream",
     "text": [
      "[456, 2000, 888, 758, 600, 423, 300]\n",
      "[5, 9, 7, 12, 5, 3, 8]\n"
     ]
    }
   ],
   "source": [
    "b = df1['Quantity'].tolist()\n",
    "w = df1['Length'].tolist()\n",
    "print(w)\n",
    "print(b)"
   ]
  },
  {
   "cell_type": "code",
   "execution_count": 52,
   "metadata": {},
   "outputs": [
    {
     "name": "stdout",
     "output_type": "stream",
     "text": [
      "8\n",
      "7\n",
      "OptimizationStatus.OPTIMAL\n",
      "\n",
      "Objective value: 8.0\n",
      "Solution: x[0,6] = 5.0\n",
      "          x[1,2] = 3.0\n",
      "          x[1,4] = 3.0\n",
      "          x[1,7] = 3.0\n",
      "          x[2,0] = 1.0\n",
      "          x[2,3] = 3.0\n",
      "          x[2,6] = 3.0\n",
      "          x[3,0] = 5.0\n",
      "          x[3,1] = 7.0\n",
      "          x[4,3] = 5.0\n",
      "          x[5,0] = 3.0\n",
      "          x[6,5] = 8.0\n",
      "          y[0] = 1.0\n",
      "          y[1] = 1.0\n",
      "          y[2] = 1.0\n",
      "          y[3] = 1.0\n",
      "          y[4] = 1.0\n",
      "          y[5] = 1.0\n",
      "          y[6] = 1.0\n",
      "          y[7] = 1.0\n",
      "          "
     ]
    }
   ],
   "source": [
    "L = wL.value #6100  # bar length\n",
    "#w = [758, 436]  # size of each item\n",
    "#b = [40, 40]  # demand for each item\n",
    "#print(sum([b[i]*w[i] for i in range(len(b))]))\n",
    "n = round(sum([b[i]*w[i] for i in range(len(b))])/L+1) #sum(b)  # maximum number of bars\n",
    "print(n)\n",
    "m = len(w)  # number of requests\n",
    "print(len(w))\n",
    "\n",
    "# creating the model\n",
    "model = Model()\n",
    "x = {(i, j): model.add_var(obj=0, var_type=INTEGER, name=\"x[%d,%d]\" % (i, j))\n",
    "     for i in range(m) for j in range(n)}\n",
    "y = {j: model.add_var(obj=1, var_type=BINARY, name=\"y[%d]\" % j)\n",
    "     for j in range(n)}\n",
    "\n",
    "# constraints\n",
    "for i in range(m):\n",
    "    model.add_constr(xsum(x[i, j] for j in range(n)) >= b[i])\n",
    "for j in range(n):\n",
    "    model.add_constr(xsum(w[i] * x[i, j] for i in range(m)) <= L * y[j])\n",
    "\n",
    "# additional constraints to reduce symmetry\n",
    "if checkbox1.value == True:\n",
    "    for j in range(1, n):\n",
    "         model.add_constr(y[j - 1] >= y[j])\n",
    "\n",
    "# optimizing the model\n",
    "model.optimize(max_seconds=10)\n",
    "\n",
    "print(model.status)\n",
    "# printing the solution\n",
    "print('')\n",
    "print('Objective value: {model.objective_value:.3}'.format(**locals()))\n",
    "print('Solution: ', end='')\n",
    "for v in model.vars:\n",
    "    if v.x > 1e-5:\n",
    "        print('{v.name} = {v.x}'.format(**locals()))\n",
    "        print('          ', end='')"
   ]
  },
  {
   "cell_type": "raw",
   "metadata": {},
   "source": [
    "[758, 436, 900, 3789, 25, 137, 235, 1267, 597, 4678, 758, 436, 900, 3789, 25, 137, 235, 1267, 597, 4678, 758, 436, 900, 3789, 25, 137, 235, 1267, 597, 4678, 758, 436, 900, 3789, 25, 137, 235, 1267, 597, 4678]\n",
    "[40, 40, 1, 1, 20, 45, 34, 23, 2, 5, 40, 40, 1, 1, 20, 45, 34, 23, 2, 5, 40, 40, 1, 1, 20, 45, 34, 23, 2, 5, 40, 40, 1, 1, 20, 45, 34, 23, 2, 5]"
   ]
  },
  {
   "cell_type": "code",
   "execution_count": 53,
   "metadata": {},
   "outputs": [
    {
     "name": "stdout",
     "output_type": "stream",
     "text": [
      "x[0,6]\n",
      "5.0\n",
      "0\n",
      "6\n",
      "5 @ 456\t cut from length 6\n",
      "x[1,2]\n",
      "3.0\n",
      "1\n",
      "2\n",
      "3 @ 2000\t cut from length 2\n",
      "x[1,4]\n",
      "3.0\n",
      "1\n",
      "4\n",
      "3 @ 2000\t cut from length 4\n",
      "x[1,7]\n",
      "3.0\n",
      "1\n",
      "7\n",
      "3 @ 2000\t cut from length 7\n",
      "x[2,0]\n",
      "1.0\n",
      "2\n",
      "0\n",
      "1 @ 888\t cut from length 0\n",
      "x[2,3]\n",
      "3.0\n",
      "2\n",
      "3\n",
      "3 @ 888\t cut from length 3\n",
      "x[2,6]\n",
      "3.0\n",
      "2\n",
      "6\n",
      "3 @ 888\t cut from length 6\n",
      "x[3,0]\n",
      "5.0\n",
      "3\n",
      "0\n",
      "5 @ 758\t cut from length 0\n",
      "x[3,1]\n",
      "7.0\n",
      "3\n",
      "1\n",
      "7 @ 758\t cut from length 1\n",
      "x[4,3]\n",
      "5.0\n",
      "4\n",
      "3\n",
      "5 @ 600\t cut from length 3\n",
      "x[5,0]\n",
      "3.0\n",
      "5\n",
      "0\n",
      "3 @ 423\t cut from length 0\n",
      "x[6,5]\n",
      "8.0\n",
      "6\n",
      "5\n",
      "8 @ 300\t cut from length 5\n",
      "[(6, 5, 456), (2, 3, 2000), (4, 3, 2000), (7, 3, 2000), (0, 1, 888), (3, 3, 888), (6, 3, 888), (0, 5, 758), (1, 7, 758), (3, 5, 600), (0, 3, 423), (5, 8, 300)]\n"
     ]
    }
   ],
   "source": [
    "sol = list()\n",
    "\n",
    "for v in model.vars: \n",
    "    \n",
    "    if v.x > 1e-5 and v.name[0] == \"x\":\n",
    "        y = (int(v.name.split(',',1)[1].replace(']', ''))) # stock length\n",
    "        l = (int(v.name.split(',',1)[0].replace('x[', ''))) # cut length\n",
    "        print(v.name)\n",
    "        print(v.x) # quantity from stock length\n",
    "        print(l)\n",
    "        print(y)\n",
    "        sol.append((y, int(v.x), w[int(l)]))\n",
    "        print(str(int(v.x)) + \" @ \" + str(w[int(l)]) + \"\\t cut from length \" + str(y))\n",
    "print(sol)"
   ]
  },
  {
   "cell_type": "code",
   "execution_count": 54,
   "metadata": {},
   "outputs": [
    {
     "name": "stdout",
     "output_type": "stream",
     "text": [
      "[(0, 1, 888), (0, 5, 758), (0, 3, 423), (1, 7, 758), (2, 3, 2000), (3, 3, 888), (3, 5, 600), (4, 3, 2000), (5, 8, 300), (6, 5, 456), (6, 3, 888), (7, 3, 2000)]\n"
     ]
    }
   ],
   "source": [
    "sorted_sol = sorted(sol, key=lambda tup: tup[0])\n",
    "print(sorted_sol)"
   ]
  },
  {
   "cell_type": "code",
   "execution_count": 55,
   "metadata": {},
   "outputs": [
    {
     "name": "stdout",
     "output_type": "stream",
     "text": [
      "42261\n"
     ]
    }
   ],
   "source": [
    "Output = [] \n",
    "for elem in sorted_sol: \n",
    "    temp = elem[1]*elem[2] \n",
    "    Output.append(temp)\n",
    "print(sum(Output))"
   ]
  },
  {
   "cell_type": "code",
   "execution_count": 56,
   "metadata": {},
   "outputs": [
    {
     "name": "stdout",
     "output_type": "stream",
     "text": [
      "[[423, 758, 2000, 600, 2000, 300, 888, 2000], [423, 758, 2000, 600, 2000, 300, 888, 2000], [423, 758, 2000, 600, 2000, 300, 888, 2000], [758, 758, 0, 600, 0, 300, 456, 0], [758, 758, 0, 600, 0, 300, 456, 0], [758, 758, 0, 888, 0, 300, 456, 0], [758, 758, 0, 888, 0, 300, 456, 0], [758, 0, 0, 888, 0, 300, 456, 0], [888, 0, 0, 0, 0, 0, 0, 0]]\n"
     ]
    }
   ],
   "source": [
    "# https://stackoverflow.com/questions/61966978/convert-a-list-of-3-tuples-in-to-list-of-list-for-a-matplot-stacked-bar-chart\n",
    "\n",
    "dx = max(x[0] for x in sorted_sol) + 1\n",
    "predata = []\n",
    "for x in range(dx):\n",
    "    col_data = [tup[1:] for tup in sorted_sol if tup[0] == x]\n",
    "    temp = [n * [y] for n, y in col_data]\n",
    "    predata.append([i for sublist in temp for i in sublist])\n",
    "\n",
    "dy = max(len(x) for x in predata)\n",
    "data = [[i.pop() if i else 0 for i in predata] for _ in range(dy)]\n",
    "print(data)"
   ]
  },
  {
   "cell_type": "code",
   "execution_count": 57,
   "metadata": {},
   "outputs": [
    {
     "data": {
      "text/plain": [
       "<Figure size 432x288 with 0 Axes>"
      ]
     },
     "metadata": {},
     "output_type": "display_data"
    },
    {
     "data": {
      "image/png": "[encoded data removed]",
      "text/plain": [
       "<Figure size 432x288 with 1 Axes>"
      ]
     },
     "metadata": {
      "needs_background": "light"
     },
     "output_type": "display_data"
    }
   ],
   "source": [
    "plt.figure()\n",
    "\n",
    "df = pd.DataFrame(data).T\n",
    "df = df.loc[(df!=0).any(axis=1)]\n",
    "#df = df[(df.T != 0).any()]\n",
    "df.plot.bar(legend=False, table=True, stacked=True, title='STOCK LENGTHS')\n",
    "plt.tick_params(\n",
    "    axis='x',          # changes apply to the x-axis\n",
    "    which='both',      # both major and minor ticks are affected\n",
    "    bottom=False,      # ticks along the bottom edge are off\n",
    "    top=False,         # ticks along the top edge are off\n",
    "    labelbottom=False) # labels along the bottom edge are off\n",
    "#plt.xlabel('STOCK LENGTHS')\n",
    "plt.ylabel('CUTS REQUIRED IN STOCK LENGTHS')\n",
    "plt.show()"
   ]
  },
  {
   "cell_type": "code",
   "execution_count": 58,
   "metadata": {},
   "outputs": [
    {
     "name": "stdout",
     "output_type": "stream",
     "text": [
      "Waste for each stock length\n",
      "0      53\n",
      "1     694\n",
      "2       0\n",
      "3     336\n",
      "4       0\n",
      "5    3600\n",
      "6    1056\n",
      "7       0\n",
      "dtype: int64\n",
      "\n",
      "\n",
      "Total wasted \t= \t5739\n",
      "% wasted \t= \t10.63\n"
     ]
    }
   ],
   "source": [
    "waste=L-df.sum(axis=1)\n",
    "#print(df.sum(axis=1))\n",
    "\n",
    "x = (df.sum(axis=1))\n",
    "#print(x.sum(axis=0))\n",
    "waste = waste.rename_axis(\"Waste for each stock length\")\n",
    "print(waste)\n",
    "print('\\n')\n",
    "print(\"Total wasted \\t= \\t\" + str(waste.sum(axis=0)))\n",
    "print('% wasted \\t= \\t'+ '{0:.2f}'.format((waste.sum(axis=0))/(L*dy)*100))\n"
   ]
  },
  {
   "cell_type": "code",
   "execution_count": null,
   "metadata": {},
   "outputs": [],
   "source": []
  }
 ],
 "metadata": {
  "kernelspec": {
   "display_name": "Python 3",
   "language": "python",
   "name": "python3"
  },
  "language_info": {
   "codemirror_mode": {
    "name": "ipython",
    "version": 3
   },
   "file_extension": ".py",
   "mimetype": "text/x-python",
   "name": "python",
   "nbconvert_exporter": "python",
   "pygments_lexer": "ipython3",
   "version": "3.7.4"
  }
 },
 "nbformat": 4,
 "nbformat_minor": 2
}
